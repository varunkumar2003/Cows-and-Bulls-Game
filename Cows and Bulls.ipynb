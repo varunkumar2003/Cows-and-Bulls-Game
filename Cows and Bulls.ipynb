{
 "cells": [
  {
   "cell_type": "code",
   "execution_count": null,
   "id": "e2ba8362",
   "metadata": {},
   "outputs": [
    {
     "name": "stdout",
     "output_type": "stream",
     "text": [
      "guess the number :5678\n",
      "0 cow 2 bulls\n",
      "guess the number :7894\n",
      "0 cow 1 bull\n",
      "guess the number :6891\n",
      "1 cow 2 bulls\n",
      "guess the number :6813\n",
      "0 cow 2 bulls\n",
      "guess the number :6831\n",
      "1 cow 1 bull\n",
      "guess the number :6914\n",
      "0 cow 3 bulls\n"
     ]
    }
   ],
   "source": [
    "import random as rd\n",
    "A= rd.randint(1000,9999)\n",
    "B=\"{}\".format(A)\n",
    "C=list(B)\n",
    "X=[]\n",
    "Y=['1','2','3','4','5','6','7','8','9']\n",
    "Z=[]\n",
    "for elem in C:\n",
    "    if elem not in X:\n",
    "        X.append(elem)\n",
    "        \n",
    "for elem in Y:\n",
    "    if(len(X)<=3):\n",
    "        if elem not in X :\n",
    "            X.append(elem)\n",
    "I=int(\"\".join(X))\n",
    "#print(I)\n",
    "U=1\n",
    "while I!=U:\n",
    "    U=int(input(\"guess the number :\"))\n",
    "    if U==I:\n",
    "        print(\"your geuss is correct\")\n",
    "        break\n",
    "    T=\"{}\".format(U)\n",
    "    V=list(T)\n",
    "    count=0\n",
    "    mount=0\n",
    "    for elem in V:\n",
    "        if elem in X:\n",
    "            count=count+1\n",
    "\n",
    "    for i in range(len(V)): \n",
    "        if V[i]==X[i]:\n",
    "            mount=mount+1\n",
    "\n",
    "    pount=count-mount\n",
    "    if(pount<=1 and mount<=1):\n",
    "        print(mount,\"cow\",pount,\"bull\")\n",
    "    elif(pount<=1 and mount>=2):\n",
    "        print(mount,\"cows\",pount,\"bull\")\n",
    "    elif(pount>=2 and mount<=1):\n",
    "        print(mount,\"cow\",pount,\"bulls\")\n",
    "    elif(pount>=2 and mount>=2):\n",
    "        print(mount,\"cows\",pount,\"bulls\")"
   ]
  },
  {
   "cell_type": "code",
   "execution_count": null,
   "id": "d8f6ac4a",
   "metadata": {},
   "outputs": [],
   "source": []
  }
 ],
 "metadata": {
  "kernelspec": {
   "display_name": "Python 3 (ipykernel)",
   "language": "python",
   "name": "python3"
  },
  "language_info": {
   "codemirror_mode": {
    "name": "ipython",
    "version": 3
   },
   "file_extension": ".py",
   "mimetype": "text/x-python",
   "name": "python",
   "nbconvert_exporter": "python",
   "pygments_lexer": "ipython3",
   "version": "3.9.7"
  }
 },
 "nbformat": 4,
 "nbformat_minor": 5
}
